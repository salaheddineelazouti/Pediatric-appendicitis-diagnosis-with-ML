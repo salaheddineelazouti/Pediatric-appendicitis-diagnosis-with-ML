{
 "cells": [
  {
   "cell_type": "markdown",
   "metadata": {},
   "source": [
    "# Advanced Exploratory Data Analysis for Pediatric Appendicitis\n",
    "\n",
    "This notebook provides an in-depth exploratory data analysis of the pediatric appendicitis dataset, focusing on complex relationships between features, statistical insights, and visualizations that can inform model development."
   ]
  },
  {
   "cell_type": "code",
   "execution_count": null,
   "metadata": {},
   "outputs": [],
   "source": [
    "# Import necessary libraries\n",
    "import os\n",
    "import sys\n",
    "import pandas as pd\n",
    "import numpy as np\n",
    "import matplotlib.pyplot as plt\n",
    "import seaborn as sns\n",
    "from scipy import stats\n",
    "from sklearn.decomposition import PCA\n",
    "from sklearn.preprocessing import StandardScaler\n",
    "import missingno as msno\n",
    "from statsmodels.graphics.mosaicplot import mosaic\n",
    "from statsmodels.stats.proportion import proportions_ztest\n",
    "\n",
    "# Add project root to path\n",
    "sys.path.append('..')\n",
    "\n",
    "# Import project modules\n",
    "from src.data_processing.preprocess import load_data, handle_missing_values, optimize_memory\n",
    "\n",
    "# Set plot styling\n",
    "plt.style.use('seaborn-v0_8-whitegrid')\n",
    "sns.set_palette('viridis')\n",
    "plt.rcParams['figure.figsize'] = (12, 8)\n",
    "plt.rcParams['axes.titlesize'] = 18\n",
    "plt.rcParams['axes.labelsize'] = 14"
   ]
  },
  {
   "cell_type": "markdown",
   "metadata": {},
   "source": [
    "## 1. Data Loading and Initial Inspection\n",
    "\n",
    "Let's start by loading the dataset and examining its basic structure, including data types, summary statistics, and missing values."
   ]
  },
  {
   "cell_type": "code",
   "execution_count": null,
   "metadata": {},
   "outputs": [],
   "source": [
    "# Load data\n",
    "print(\"Loading data...\")\n",
    "data_path = '../DATA/synthetic_appendicitis_data.csv'\n",
    "\n",
    "# Load the dataset\n",
    "df = pd.read_csv(data_path)\n",
    "print(f\"Dataset shape: {df.shape}\")\n",
    "\n",
    "# Display basic information\n",
    "print(\"\\nDataset Overview:\")\n",
    "df.info()"
   ]
  },
  {
   "cell_type": "code",
   "execution_count": null,
   "metadata": {},
   "outputs": [],
   "source": [
    "# Summary statistics\n",
    "print(\"\\nSummary Statistics:\")\n",
    "df.describe().T"
   ]
  },
  {
   "cell_type": "code",
   "execution_count": null,
   "metadata": {},
   "outputs": [],
   "source": [
    "# Check for missing values\n",
    "print(\"\\nMissing Values:\")\n",
    "df.isnull().sum()"
   ]
  },
  {
   "cell_type": "code",
   "execution_count": null,
   "metadata": {},
   "outputs": [],
   "source": [
    "# Visualize missing values\n",
    "plt.figure(figsize=(10, 6))\n",
    "msno.matrix(df)\n",
    "plt.title(\"Missing Value Matrix\")\n",
    "plt.tight_layout()"
   ]
  },
  {
   "cell_type": "markdown",
   "metadata": {},
   "source": [
    "## 2. Target Variable Analysis\n",
    "\n",
    "Now let's examine the distribution of our target variable (appendicitis) to understand the class balance."
   ]
  },
  {
   "cell_type": "code",
   "execution_count": null,
   "metadata": {},
   "outputs": [],
   "source": [
    "# Plot appendicitis distribution\n",
    "plt.figure(figsize=(10, 6))\n",
    "ax = sns.countplot(x='Appendicitis', data=df)\n",
    "ax.bar_label(ax.containers[0])\n",
    "plt.title('Distribution of Appendicitis Cases')\n",
    "plt.xlabel('Appendicitis')\n",
    "plt.xticks([0, 1], ['Negative', 'Positive'])\n",
    "plt.ylabel('Count')\n",
    "plt.show()\n",
    "\n",
    "# Calculate class distribution percentages\n",
    "appendicitis_counts = df['Appendicitis'].value_counts(normalize=True) * 100\n",
    "print(f\"\\nClass distribution:\")\n",
    "print(f\"Negative (no appendicitis): {appendicitis_counts[0]:.1f}%\")\n",
    "print(f\"Positive (appendicitis): {appendicitis_counts[1]:.1f}%\")"
   ]
  },
  {
   "cell_type": "markdown",
   "metadata": {},
   "source": [
    "## 3. Advanced Feature Analysis\n",
    "\n",
    "Let's perform a detailed analysis of the features, examining their distributions and relationships with the target variable."
   ]
  },
  {
   "cell_type": "markdown",
   "metadata": {},
   "source": [
    "### 3.1 Numerical Features Distribution by Outcome\n",
    "\n",
    "We'll use violin plots to compare the distribution of each numerical feature between positive and negative appendicitis cases."
   ]
  },
  {
   "cell_type": "code",
   "execution_count": null,
   "metadata": {},
   "outputs": [],
   "source": [
    "numerical_features = ['Age', 'Temperature', 'WBC', 'CRP', 'Pain_Duration', 'Neutrophil_Percent']\n",
    "\n",
    "# Create violin plots for numerical features by appendicitis outcome\n",
    "fig, axes = plt.subplots(3, 2, figsize=(16, 18))\n",
    "axes = axes.flatten()\n",
    "\n",
    "for i, feature in enumerate(numerical_features):\n",
    "    sns.violinplot(x='Appendicitis', y=feature, data=df, ax=axes[i], inner='quartile')\n",
    "    axes[i].set_title(f'Distribution of {feature} by Outcome')\n",
    "    axes[i].set_xlabel('Appendicitis')\n",
    "    axes[i].set_ylabel(feature)\n",
    "    axes[i].set_xticklabels(['Negative', 'Positive'])\n",
    "    \n",
    "    # Add statistical test results\n",
    "    neg_vals = df[df['Appendicitis'] == 0][feature].dropna()\n",
    "    pos_vals = df[df['Appendicitis'] == 1][feature].dropna()\n",
    "    stat, p_val = stats.mannwhitneyu(neg_vals, pos_vals)\n",
    "    axes[i].annotate(f'Mann-Whitney U Test\\np-value: {p_val:.4f}{\"*\" if p_val < 0.05 else \"\"}', \n",
    "                    xy=(0.5, 0.95), xycoords='axes fraction', ha='center')\n",
    "\n",
    "plt.tight_layout()\n",
    "plt.show()"
   ]
  },
  {
   "cell_type": "markdown",
   "metadata": {},
   "source": [
    "### 3.2 Feature Correlations and Heatmap\n",
    "\n",
    "Let's examine the correlations between all numerical features."
   ]
  },
  {
   "cell_type": "code",
   "execution_count": null,
   "metadata": {},
   "outputs": [],
   "source": [
    "plt.figure(figsize=(12, 10))\n",
    "correlation_matrix = df[numerical_features + ['Appendicitis']].corr()\n",
    "mask = np.triu(np.ones_like(correlation_matrix, dtype=bool))\n",
    "sns.heatmap(correlation_matrix, annot=True, cmap='coolwarm', fmt='.2f', \n",
    "            mask=mask, vmin=-1, vmax=1, center=0, linewidths=2)\n",
    "plt.title('Feature Correlation Heatmap')\n",
    "plt.tight_layout()\n",
    "plt.show()"
   ]
  },
  {
   "cell_type": "markdown",
   "metadata": {},
   "source": [
    "### 3.3 Pair Plots of Selected Features\n",
    "\n",
    "Pair plots provide a comprehensive view of relationships between multiple features."
   ]
  },
  {
   "cell_type": "code",
   "execution_count": null,
   "metadata": {},
   "outputs": [],
   "source": [
    "sns.pairplot(df[numerical_features + ['Appendicitis']], \n",
    "             hue='Appendicitis', diag_kind='kde', \n",
    "             plot_kws={'alpha': 0.6}, height=2.5)\n",
    "plt.suptitle('Pair Plot of Numerical Features', y=1.02, fontsize=20)\n",
    "plt.show()"
   ]
  },
  {
   "cell_type": "markdown",
   "metadata": {},
   "source": [
    "## 4. Feature Engineering Insights\n",
    "\n",
    "Let's create and analyze some derived features that might improve model performance."
   ]
  },
  {
   "cell_type": "code",
   "execution_count": null,
   "metadata": {},
   "outputs": [],
   "source": [
    "print(\"\\nCreating derived features...\")\n",
    "\n",
    "# WBC to Neutrophil Ratio\n",
    "df['WBC_Neutrophil_Ratio'] = df['WBC'] / df['Neutrophil_Percent']\n",
    "\n",
    "# Pain Duration Categories\n",
    "df['Pain_Duration_Category'] = pd.cut(df['Pain_Duration'], \n",
    "                                      bins=[0, 12, 24, 48, float('inf')],\n",
    "                                      labels=['<12h', '12-24h', '24-48h', '>48h'])\n",
    "\n",
    "# Temperature Categories\n",
    "df['Fever_Category'] = pd.cut(df['Temperature'], \n",
    "                              bins=[35, 37.5, 38, 38.5, float('inf')],\n",
    "                              labels=['Normal', 'Low Fever', 'Moderate Fever', 'High Fever'])\n",
    "\n",
    "# Analyze derived features\n",
    "print(\"\\nDistribution of Pain Duration Categories:\")\n",
    "pain_duration_counts = df['Pain_Duration_Category'].value_counts(normalize=True) * 100\n",
    "print(pain_duration_counts)"
   ]
  },
  {
   "cell_type": "code",
   "execution_count": null,
   "metadata": {},
   "outputs": [],
   "source": [
    "# Plot pain duration by outcome\n",
    "plt.figure(figsize=(12, 6))\n",
    "contingency = pd.crosstab(df['Pain_Duration_Category'], df['Appendicitis'])\n",
    "contingency_norm = contingency.div(contingency.sum(axis=1), axis=0) * 100\n",
    "\n",
    "# Plot stacked bar chart\n",
    "contingency_norm.plot(kind='bar', stacked=True, colormap='viridis')\n",
    "plt.title('Appendicitis Rate by Pain Duration')\n",
    "plt.xlabel('Pain Duration')\n",
    "plt.ylabel('Percentage')\n",
    "plt.legend(['Negative', 'Positive'])\n",
    "plt.show()"
   ]
  },
  {
   "cell_type": "markdown",
   "metadata": {},
   "source": [
    "### 4.2 Feature Importance Analysis using Decision Trees\n",
    "\n",
    "Let's use a simple decision tree to identify important features for appendicitis prediction."
   ]
  },
  {
   "cell_type": "code",
   "execution_count": null,
   "metadata": {},
   "outputs": [],
   "source": [
    "from sklearn.tree import DecisionTreeClassifier\n",
    "from sklearn.model_selection import train_test_split\n",
    "from sklearn.metrics import accuracy_score\n",
    "\n",
    "X = df[numerical_features]\n",
    "y = df['Appendicitis']\n",
    "\n",
    "X_train, X_test, y_train, y_test = train_test_split(X, y, test_size=0.3, random_state=42)\n",
    "\n",
    "# Train a simple decision tree classifier\n",
    "dt = DecisionTreeClassifier(max_depth=4, random_state=42)\n",
    "dt.fit(X_train, y_train)\n",
    "\n",
    "# Plot feature importance\n",
    "plt.figure(figsize=(10, 6))\n",
    "feature_importance = pd.Series(dt.feature_importances_, index=X.columns)\n",
    "feature_importance = feature_importance.sort_values(ascending=False)\n",
    "sns.barplot(x=feature_importance, y=feature_importance.index, palette='viridis')\n",
    "plt.title('Feature Importance for Appendicitis Prediction')\n",
    "plt.xlabel('Importance')\n",
    "plt.tight_layout()\n",
    "plt.show()"
   ]
  },
  {
   "cell_type": "markdown",
   "metadata": {},
   "source": [
    "## 5. Principal Component Analysis (PCA)\n",
    "\n",
    "Let's apply PCA to understand the underlying structure of our data and potential dimensionality reduction."
   ]
  },
  {
   "cell_type": "code",
   "execution_count": null,
   "metadata": {},
   "outputs": [],
   "source": [
    "# Standardize the data\n",
    "scaler = StandardScaler()\n",
    "X_scaled = scaler.fit_transform(df[numerical_features])\n",
    "\n",
    "# Apply PCA\n",
    "pca = PCA()\n",
    "pca_result = pca.fit_transform(X_scaled)\n",
    "\n",
    "# Plot explained variance ratio\n",
    "plt.figure(figsize=(10, 6))\n",
    "plt.plot(range(1, pca.n_components_ + 1), pca.explained_variance_ratio_.cumsum(), marker='o', linestyle='-')\n",
    "plt.title('Explained Variance by Components')\n",
    "plt.xlabel('Number of Components')\n",
    "plt.ylabel('Cumulative Explained Variance')\n",
    "plt.grid(True)\n",
    "plt.show()"
   ]
  },
  {
   "cell_type": "code",
   "execution_count": null,
   "metadata": {},
   "outputs": [],
   "source": [
    "# Plot PCA components\n",
    "pca_df = pd.DataFrame(data=pca_result[:, 0:2], columns=['PC1', 'PC2'])\n",
    "pca_df['Appendicitis'] = df['Appendicitis']\n",
    "\n",
    "plt.figure(figsize=(12, 8))\n",
    "sns.scatterplot(x='PC1', y='PC2', hue='Appendicitis', data=pca_df, palette='viridis', s=80, alpha=0.8)\n",
    "plt.title('PCA: First Two Principal Components')\n",
    "plt.xlabel(f'PC1 ({pca.explained_variance_ratio_[0]*100:.1f}%)')\n",
    "plt.ylabel(f'PC2 ({pca.explained_variance_ratio_[1]*100:.1f}%)')\n",
    "plt.legend(title='Appendicitis', loc='best', labels=['Negative', 'Positive'])\n",
    "plt.grid(True)\n",
    "plt.tight_layout()\n",
    "plt.show()"
   ]
  },
  {
   "cell_type": "markdown",
   "metadata": {},
   "source": [
    "## 6. Feature Interaction Analysis\n",
    "\n",
    "Let's examine interactions between key features to identify important patterns."
   ]
  },
  {
   "cell_type": "markdown",
   "metadata": {},
   "source": [
    "### 6.1 WBC and CRP Interaction"
   ]
  },
  {
   "cell_type": "code",
   "execution_count": null,
   "metadata": {},
   "outputs": [],
   "source": [
    "plt.figure(figsize=(12, 10))\n",
    "joint_plot = sns.jointplot(\n",
    "    x=\"WBC\", y=\"CRP\", data=df, \n",
    "    hue=\"Appendicitis\", kind=\"scatter\",\n",
    "    height=10, ratio=3, marginal_kws=dict(bins=20, alpha=0.6),\n",
    "    joint_kws=dict(alpha=0.7, s=80)\n",
    ")\n",
    "plt.suptitle('Relationship between WBC Count and CRP by Outcome', y=1.02, fontsize=16)\n",
    "plt.tight_layout()\n",
    "plt.show()"
   ]
  },
  {
   "cell_type": "markdown",
   "metadata": {},
   "source": [
    "### 6.2 Temperature and Pain Duration"
   ]
  },
  {
   "cell_type": "code",
   "execution_count": null,
   "metadata": {},
   "outputs": [],
   "source": [
    "plt.figure(figsize=(12, 10))\n",
    "joint_plot = sns.jointplot(\n",
    "    x=\"Temperature\", y=\"Pain_Duration\", data=df, \n",
    "    hue=\"Appendicitis\", kind=\"scatter\",\n",
    "    height=10, ratio=3, marginal_kws=dict(bins=20, alpha=0.6),\n",
    "    joint_kws=dict(alpha=0.7, s=80)\n",
    ")\n",
    "plt.suptitle('Relationship between Temperature and Pain Duration by Outcome', y=1.02, fontsize=16)\n",
    "plt.tight_layout()\n",
    "plt.show()"
   ]
  },
  {
   "cell_type": "markdown",
   "metadata": {},
   "source": [
    "### 6.3 Age Distribution Analysis"
   ]
  },
  {
   "cell_type": "code",
   "execution_count": null,
   "metadata": {},
   "outputs": [],
   "source": [
    "plt.figure(figsize=(12, 6))\n",
    "sns.histplot(data=df, x='Age', hue='Appendicitis', kde=True, bins=20, element=\"step\")\n",
    "plt.title('Age Distribution by Appendicitis Status')\n",
    "plt.xlabel('Age (years)')\n",
    "plt.ylabel('Count')\n",
    "plt.legend(['Negative', 'Positive'])\n",
    "plt.show()"
   ]
  },
  {
   "cell_type": "markdown",
   "metadata": {},
   "source": [
    "### 6.4 Advanced Statistical Tests"
   ]
  },
  {
   "cell_type": "code",
   "execution_count": null,
   "metadata": {},
   "outputs": [],
   "source": [
    "# Age vs Appendicitis\n",
    "age_neg = df[df['Appendicitis'] == 0]['Age']\n",
    "age_pos = df[df['Appendicitis'] == 1]['Age']\n",
    "stat, p_val = stats.ttest_ind(age_neg, age_pos, equal_var=False)\n",
    "print(\"\\nIndependent t-test for Age by Appendicitis Outcome:\")\n",
    "print(f\"t-statistic: {stat:.3f}, p-value: {p_val:.4f}\")\n",
    "\n",
    "# WBC vs Appendicitis\n",
    "wbc_neg = df[df['Appendicitis'] == 0]['WBC']\n",
    "wbc_pos = df[df['Appendicitis'] == 1]['WBC']\n",
    "stat, p_val = stats.ttest_ind(wbc_neg, wbc_pos, equal_var=False)\n",
    "print(\"\\nIndependent t-test for WBC by Appendicitis Outcome:\")\n",
    "print(f\"t-statistic: {stat:.3f}, p-value: {p_val:.4f}\")"
   ]
  },
  {
   "cell_type": "markdown",
   "metadata": {},
   "source": [
    "## 7. Key Findings and Insights\n",
    "\n",
    "Let's summarize the key findings from this exploratory data analysis."
   ]
  },
  {
   "cell_type": "code",
   "execution_count": null,
   "metadata": {},
   "outputs": [],
   "source": [
    "print(\"\\n\\n=== Key Findings from Exploratory Data Analysis ===\")\n",
    "print(\"\\n1. Demographics and Clinical Features:\")\n",
    "print(\"   - Age shows differences between positive and negative appendicitis cases\")\n",
    "print(\"   - Pain duration has a relationship with appendicitis outcomes\")\n",
    "\n",
    "print(\"\\n2. Laboratory Values:\")\n",
    "print(\"   - WBC count is significantly higher in appendicitis cases\")\n",
    "print(\"   - CRP levels show strong correlation with appendicitis\")\n",
    "print(\"   - Neutrophil percentage differences are observed between outcomes\")\n",
    "\n",
    "print(\"\\n3. Feature Importance:\")\n",
    "print(\"   - The most predictive features for appendicitis diagnosis (from decision tree):\")\n",
    "for i, (feature, importance) in enumerate(feature_importance.items()[:3]):\n",
    "    print(f\"     {i+1}. {feature}: {importance:.3f}\")\n",
    "\n",
    "print(\"\\n4. Feature Interactions:\")\n",
    "print(\"   - Combined WBC and CRP values provide stronger discrimination\")\n",
    "print(\"   - Temperature and pain duration show interesting patterns\")\n",
    "\n",
    "print(\"\\n5. Potential Data Challenges:\")\n",
    "if df.isnull().sum().sum() > 0:\n",
    "    print(\"   - Missing values present in the dataset require handling\")\n",
    "else:\n",
    "    print(\"   - No missing values in the dataset\")\n",
    "\n",
    "print(\"\\n6. Next Steps:\")\n",
    "print(\"   - Feature engineering based on clinical knowledge\")\n",
    "print(\"   - Decision on feature transformations and scaling\")\n",
    "print(\"   - Model selection and training\")"
   ]
  }
 ],
 "metadata": {
  "kernelspec": {
   "display_name": "Python 3",
   "language": "python",
   "name": "python3"
  },
  "language_info": {
   "codemirror_mode": {
    "name": "ipython",
    "version": 3
   },
   "file_extension": ".py",
   "mimetype": "text/x-python",
   "name": "python",
   "nbconvert_exporter": "python",
   "pygments_lexer": "ipython3",
   "version": "3.8.0"
  }
 },
 "nbformat": 4,
 "nbformat_minor": 4
}
