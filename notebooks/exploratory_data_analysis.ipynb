{
 "cells": [
  {
   "cell_type": "markdown",
   "metadata": {},
   "source": [
    "# Exploratory Data Analysis for Pediatric Appendicitis Diagnosis\n",
    "\n",
    "This notebook explores clinical data for pediatric appendicitis diagnosis, analyzing feature distributions, correlations, and patterns to inform model development."
   ]
  },
  {
   "cell_type": "code",
   "execution_count": null,
   "metadata": {},
   "source": [
    "# Import necessary libraries\n",
    "import sys\n",
    "import os\n",
    "import pandas as pd\n",
    "import numpy as np\n",
    "import matplotlib.pyplot as plt\n",
    "import seaborn as sns\n",
    "from scipy import stats\n",
    "\n",
    "# Add project root to path\n",
    "sys.path.append('..')\n",
    "\n",
    "# Import project modules\n",
    "from src.data_processing.preprocess import load_data, handle_missing_values, optimize_memory\n",
    "\n",
    "# Set plot styling\n",
    "plt.style.use('seaborn-whitegrid')\n",
    "sns.set_palette('viridis')\n",
    "plt.rcParams['figure.figsize'] = (12, 8)\n",
    "plt.rcParams['axes.titlesize'] = 18\n",
    "plt.rcParams['axes.labelsize'] = 14"
   ]
  },
  {
   "cell_type": "markdown",
   "metadata": {},
   "source": [
    "## Data Loading and Initial Inspection\n",
    "\n",
    "First, we'll load the dataset and examine its structure, including data types, missing values, and basic statistics."
   ]
  },
  {
   "cell_type": "code",
   "execution_count": null,
   "metadata": {},
   "source": [
    "# Load sample data\n",
    "# Note: Replace this path with the actual data file path\n",
    "data_path = '../data/raw/pediatric_appendicitis_data.csv'\n",
    "\n",
    "# Check if file exists, if not, create a dummy dataset for demonstration\n",
    "if not os.path.exists(data_path):\n",
    "    print(\"Creating sample dataset for demonstration\")\n",
    "    \n",
    "    # Create synthetic data for demonstration\n",
    "    np.random.seed(42)\n",
    "    n_samples = 500\n",
    "    \n",
    "    df = pd.DataFrame({\n",
    "        # Demographics\n",
    "        'age': np.random.normal(10, 3, n_samples).clip(2, 18),\n",
    "        'gender': np.random.choice([0, 1], size=n_samples),\n",
    "        \n",
    "        # Clinical symptoms\n",
    "        'duration_of_pain_hrs': np.random.lognormal(3, 0.7, n_samples),\n",
    "        'migration_of_pain': np.random.choice([0, 1], size=n_samples, p=[0.6, 0.4]),\n",
    "        'anorexia': np.random.choice([0, 1], size=n_samples, p=[0.4, 0.6]),\n",
    "        'nausea_vomiting': np.random.choice([0, 1], size=n_samples, p=[0.3, 0.7]),\n",
    "        'right_lower_quadrant_tenderness': np.random.choice([0, 1], size=n_samples, p=[0.2, 0.8]),\n",
    "        'rebound_pain': np.random.choice([0, 1], size=n_samples, p=[0.5, 0.5]),\n",
    "        'fever': np.random.choice([0, 1], size=n_samples, p=[0.7, 0.3]),\n",
    "        \n",
    "        # Laboratory values\n",
    "        'wbc_count': np.random.normal(14, 4, n_samples).clip(4, 30),\n",
    "        'neutrophil_percent': np.random.normal(75, 15, n_samples).clip(30, 98),\n",
    "        'crp': np.random.lognormal(2, 1, n_samples),\n",
    "        \n",
    "        # Imaging findings\n",
    "        'us_appendix_diameter_mm': np.random.normal(7, 2, n_samples).clip(3, 15),\n",
    "        'us_appendix_non_compressibility': np.random.choice([0, 1], size=n_samples, p=[0.4, 0.6]),\n",
    "        'us_appendix_fecolith': np.random.choice([0, 1], size=n_samples, p=[0.7, 0.3]),\n",
    "        'us_periappendiceal_fluid': np.random.choice([0, 1], size=n_samples, p=[0.6, 0.4]),\n",
    "        \n",
    "        # Target variable\n",
    "        'appendicitis': np.random.choice([0, 1], size=n_samples, p=[0.6, 0.4]),\n",
    "    })\n",
    "    \n",
    "    # Add some correlations to make the data more realistic\n",
    "    # Higher risk of appendicitis with certain features\n",
    "    for idx, row in df.iterrows():\n",
    "        if (row['wbc_count'] > 15 and \n",
    "            row['neutrophil_percent'] > 75 and \n",
    "            row['right_lower_quadrant_tenderness'] == 1 and\n",
    "            row['us_appendix_diameter_mm'] > 7):\n",
    "            df.loc[idx, 'appendicitis'] = np.random.choice([0, 1], p=[0.2, 0.8])\n",
    "    \n",
    "    # Add some missing values to simulate real-world data\n",
    "    for col in ['us_appendix_diameter_mm', 'us_appendix_fecolith', 'crp']:\n",
    "        mask = np.random.choice([True, False], size=n_samples, p=[0.1, 0.9])\n",
    "        df.loc[mask, col] = np.nan\n",
    "    \n",
    "    # Create directory if it doesn't exist\n",
    "    os.makedirs(os.path.dirname(data_path), exist_ok=True)\n",
    "    \n",
    "    # Save synthetic data\n",
    "    df.to_csv(data_path, index=False)\n",
    "    print(f\"Synthetic dataset saved to {data_path}\")\n",
    "else:\n",
    "    # Load real data if it exists\n",
    "    df = pd.read_csv(data_path)\n",
    "    print(f\"Loaded dataset from {data_path}\")\n",
    "\n",
    "# Display basic information\n",
    "print(f\"Dataset shape: {df.shape}\")\n",
    "df.head()"
   ]
  },
  {
   "cell_type": "code",
   "execution_count": null,
   "metadata": {},
   "source": [
    "# Check data types and missing values\n",
    "df.info()\n",
    "\n",
    "# Summary statistics\n",
    "df.describe().T"
   ]
  },
  {
   "cell_type": "markdown",
   "metadata": {},
   "source": [
    "## Target Variable Analysis\n",
    "\n",
    "Examine the distribution of appendicitis cases (positive vs. negative)"
   ]
  },
  {
   "cell_type": "code",
   "execution_count": null,
   "metadata": {},
   "source": [
    "# Plot appendicitis distribution\n",
    "plt.figure(figsize=(10, 6))\n",
    "ax = sns.countplot(x='appendicitis', data=df)\n",
    "ax.bar_label(ax.containers[0])\n",
    "plt.title('Distribution of Appendicitis Cases')\n",
    "plt.xlabel('Appendicitis')\n",
    "plt.xticks([0, 1], ['Negative', 'Positive'])\n",
    "plt.ylabel('Count')\n",
    "plt.show()\n",
    "\n",
    "# Calculate class distribution percentages\n",
    "appendicitis_counts = df['appendicitis'].value_counts(normalize=True) * 100\n",
    "print(f\"Class distribution:\")\n",
    "print(f\"Negative (no appendicitis): {appendicitis_counts[0]:.1f}%\")\n",
    "print(f\"Positive (appendicitis): {appendicitis_counts[1]:.1f}%\")"
   ]
  },
  {
   "cell_type": "markdown",
   "metadata": {},
   "source": [
    "## Feature Analysis\n",
    "\n",
    "Analyze the distributions of key features and their relationships with appendicitis."
   ]
  },
  {
   "cell_type": "code",
   "execution_count": null,
   "metadata": {},
   "source": [
    "# Analyze numerical features\n",
    "numerical_features = ['age', 'duration_of_pain_hrs', 'wbc_count', 'neutrophil_percent', \n",
    "                      'crp', 'us_appendix_diameter_mm']\n",
    "\n",
    "# Create histograms for numerical features by appendicitis status\n",
    "fig, axes = plt.subplots(3, 2, figsize=(15, 12))\n",
    "axes = axes.flatten()\n",
    "\n",
    "for i, feature in enumerate(numerical_features):\n",
    "    sns.histplot(data=df, x=feature, hue='appendicitis', bins=20, \n",
    "                 element='step', common_norm=False, ax=axes[i])\n",
    "    axes[i].set_title(f'Distribution of {feature.replace(\"_\", \" \").title()}')\n",
    "    axes[i].legend(['Negative', 'Positive'])\n",
    "\n",
    "plt.tight_layout()\n",
    "plt.show()"
   ]
  },
  {
   "cell_type": "code",
   "execution_count": null,
   "metadata": {},
   "source": [
    "# Analyze categorical features\n",
    "categorical_features = ['gender', 'migration_of_pain', 'anorexia', 'nausea_vomiting',\n",
    "                        'right_lower_quadrant_tenderness', 'rebound_pain', 'fever',\n",
    "                        'us_appendix_non_compressibility', 'us_appendix_fecolith',\n",
    "                        'us_periappendiceal_fluid']\n",
    "\n",
    "# Create a figure with subplots for categorical features\n",
    "fig, axes = plt.subplots(5, 2, figsize=(15, 20))\n",
    "axes = axes.flatten()\n",
    "\n",
    "for i, feature in enumerate(categorical_features):\n",
    "    # Cross-tabulation of feature vs. appendicitis\n",
    "    ct = pd.crosstab(df[feature], df['appendicitis'], normalize='index') * 100\n",
    "    ct.columns = ['Negative', 'Positive']\n",
    "    \n",
    "    # Plot stacked bar chart\n",
    "    ct.plot(kind='bar', stacked=True, ax=axes[i], rot=0, \n",
    "            color=['lightblue', 'orange'])\n",
    "    \n",
    "    axes[i].set_title(f'{feature.replace(\"_\", \" \").title()} vs. Appendicitis')\n",
    "    axes[i].set_ylabel('Percentage')\n",
    "    axes[i].set_xticklabels(['No', 'Yes'])\n",
    "    axes[i].legend(title='Appendicitis')\n",
    "    \n",
    "    # Add percentage labels\n",
    "    for c in axes[i].containers:\n",
    "        labels = [f'{v:.1f}%' if v > 5 else '' for v in c.datavalues]\n",
    "        axes[i].bar_label(c, labels=labels, label_type='center')\n",
    "\n",
    "plt.tight_layout()\n",
    "plt.show()"
   ]
  },
  {
   "cell_type": "markdown",
   "metadata": {},
   "source": [
    "## Correlation Analysis\n",
    "\n",
    "Examine correlations between features and with the target variable."
   ]
  },
  {
   "cell_type": "code",
   "execution_count": null,
   "metadata": {},
   "source": [
    "# Calculate correlation matrix\n",
    "correlation = df.corr()\n",
    "\n",
    "# Plot correlation heatmap\n",
    "plt.figure(figsize=(14, 12))\n",
    "mask = np.triu(correlation)\n",
    "sns.heatmap(correlation, annot=True, fmt='.2f', cmap='coolwarm', mask=mask, \n",
    "            vmin=-1, vmax=1, center=0, square=True, linewidths=.5)\n",
    "plt.title('Feature Correlation Matrix', fontsize=20)\n",
    "plt.tight_layout()\n",
    "plt.show()\n",
    "\n",
    "# Feature correlations with appendicitis\n",
    "target_correlations = correlation['appendicitis'].drop('appendicitis').sort_values(ascending=False)\n",
    "\n",
    "# Plot correlations with target\n",
    "plt.figure(figsize=(12, 8))\n",
    "sns.barplot(x=target_correlations.values, y=target_correlations.index)\n",
    "plt.title('Feature Correlations with Appendicitis', fontsize=18)\n",
    "plt.xlabel('Correlation Coefficient')\n",
    "plt.axvline(x=0, color='black', linestyle='--')\n",
    "plt.tight_layout()\n",
    "plt.show()"
   ]
  },
  {
   "cell_type": "markdown",
   "metadata": {},
   "source": [
    "## Clinical Score Analysis\n",
    "\n",
    "Create and evaluate a simple clinical score based on key features."
   ]
  },
  {
   "cell_type": "code",
   "execution_count": null,
   "metadata": {},
   "source": [
    "# Create a simple clinical score (similar to Alvarado or PAS score)\n",
    "# This is a demonstration - actual scoring would be based on validated clinical criteria\n",
    "df['clinical_score'] = (\n",
    "    (df['migration_of_pain'] * 1) + \n",
    "    (df['anorexia'] * 1) + \n",
    "    (df['nausea_vomiting'] * 1) + \n",
    "    (df['right_lower_quadrant_tenderness'] * 2) + \n",
    "    (df['rebound_pain'] * 1) + \n",
    "    (df['fever'] * 1) + \n",
    "    ((df['wbc_count'] > 10) * 2) + \n",
    "    ((df['neutrophil_percent'] > 75) * 1)\n",
    ")\n",
    "\n",
    "# Plot score distribution by appendicitis status\n",
    "plt.figure(figsize=(12, 6))\n",
    "sns.histplot(data=df, x='clinical_score', hue='appendicitis', bins=np.arange(0, 11) - 0.5,\n",
    "             multiple=\"dodge\", shrink=0.8, discrete=True)\n",
    "plt.title('Clinical Score Distribution by Appendicitis Status')\n",
    "plt.xlabel('Clinical Score')\n",
    "plt.xticks(range(10))\n",
    "plt.legend(['Negative', 'Positive'])\n",
    "plt.tight_layout()\n",
    "plt.show()\n",
    "\n",
    "# Calculate mean score by appendicitis status\n",
    "score_by_status = df.groupby('appendicitis')['clinical_score'].mean()\n",
    "print(f\"Mean score for negative cases: {score_by_status[0]:.2f}\")\n",
    "print(f\"Mean score for positive cases: {score_by_status[1]:.2f}\")"
   ]
  },
  {
   "cell_type": "markdown",
   "metadata": {},
   "source": [
    "## Feature Relationships and Patterns\n",
    "\n",
    "Explore relationships between key features using scatter plots and pair plots."
   ]
  },
  {
   "cell_type": "code",
   "execution_count": null,
   "metadata": {},
   "source": [
    "# Scatter plot matrix for key laboratory and imaging features\n",
    "key_features = ['wbc_count', 'neutrophil_percent', 'crp', 'us_appendix_diameter_mm', 'appendicitis']\n",
    "sns.pairplot(df[key_features], hue='appendicitis', corner=True, diag_kind='kde')\n",
    "plt.suptitle('Relationships Between Key Clinical Features', y=1.02, fontsize=20)\n",
    "plt.tight_layout()\n",
    "plt.show()"
   ]
  },
  {
   "cell_type": "markdown",
   "metadata": {},
   "source": [
    "## Key Findings and Insights\n",
    "\n",
    "1. **Class Distribution**: The dataset contains approximately [X%] positive cases and [Y%] negative cases.\n",
    "\n",
    "2. **Top Predictive Features**: The features most strongly associated with appendicitis are [feature 1], [feature 2], and [feature 3].\n",
    "\n",
    "3. **Laboratory Values**: Elevated WBC count and neutrophil percentage show strong correlation with appendicitis diagnosis.\n",
    "\n",
    "4. **Imaging Findings**: Appendix diameter >7mm and non-compressibility on ultrasound are important diagnostic indicators.\n",
    "\n",
    "5. **Clinical Score**: The simplified clinical score showed good differentiation between positive and negative cases.\n",
    "\n",
    "6. **Feature Interactions**: Several features show synergistic effects when combined, suggesting that multivariate models may outperform single-variable approaches.\n",
    "\n",
    "7. **Missing Data Patterns**: [Observations about missing data patterns and potential implications].\n",
    "\n",
    "## Next Steps\n",
    "\n",
    "1. Preprocess the data for modeling, including handling missing values and encoding categorical features.\n",
    "2. Train and evaluate multiple machine learning models using the insights gained from this EDA.\n",
    "3. Implement explainability techniques to make model predictions transparent and clinically meaningful."
   ]
  }
 ],
 "metadata": {
  "kernelspec": {
   "display_name": "Python 3",
   "language": "python",
   "name": "python3"
  },
  "language_info": {
   "codemirror_mode": {
    "name": "ipython",
    "version": 3
   },
   "file_extension": ".py",
   "mimetype": "text/x-python",
   "name": "python",
   "nbconvert_exporter": "python",
   "pygments_lexer": "ipython3",
   "version": "3.8.10"
  }
 },
 "nbformat": 4,
 "nbformat_minor": 4
}
